{
 "cells": [
  {
   "attachments": {},
   "cell_type": "markdown",
   "id": "3975cfe6",
   "metadata": {},
   "source": [
    "# Anime Recommender Machine Learning Models"
   ]
  },
  {
   "attachments": {},
   "cell_type": "markdown",
   "id": "293017f2",
   "metadata": {},
   "source": [
    "## Imported Libraries"
   ]
  },
  {
   "attachments": {},
   "cell_type": "markdown",
   "id": "01cda693",
   "metadata": {},
   "source": [
    "#### Common Data Science Libraries"
   ]
  },
  {
   "cell_type": "code",
   "execution_count": 1,
   "id": "95126b08",
   "metadata": {},
   "outputs": [],
   "source": [
    "import numpy as np\n",
    "import pandas as pd\n",
    "\n",
    "import matplotlib.pyplot as plt\n",
    "%matplotlib inline\n",
    "import seaborn as sns"
   ]
  },
  {
   "attachments": {},
   "cell_type": "markdown",
   "id": "6bd077d4",
   "metadata": {},
   "source": [
    "#### Surprise Libary (for SVD and KNN models)"
   ]
  },
  {
   "cell_type": "code",
   "execution_count": 2,
   "id": "6365d15d",
   "metadata": {},
   "outputs": [],
   "source": [
    "from surprise.model_selection import GridSearchCV\n",
    "from surprise.model_selection import cross_validate\n",
    "from surprise.prediction_algorithms import KNNWithMeans, KNNBasic, KNNBaseline\n",
    "from surprise.prediction_algorithms import SVD\n",
    "# from surprise import accuracy\n",
    "from surprise import Reader\n",
    "from surprise import Dataset"
   ]
  },
  {
   "attachments": {},
   "cell_type": "markdown",
   "id": "ad91c24f",
   "metadata": {},
   "source": [
    "#### User-Defined Libraries"
   ]
  },
  {
   "cell_type": "code",
   "execution_count": 3,
   "id": "d46fda8d",
   "metadata": {},
   "outputs": [],
   "source": [
    "import projutils"
   ]
  },
  {
   "attachments": {},
   "cell_type": "markdown",
   "id": "12b92884",
   "metadata": {},
   "source": [
    "## Data Preprocessing"
   ]
  },
  {
   "attachments": {},
   "cell_type": "markdown",
   "id": "834d8b2d",
   "metadata": {},
   "source": [
    "#### Main Anime Dataset (anime.csv)"
   ]
  },
  {
   "cell_type": "code",
   "execution_count": 4,
   "id": "5214f766",
   "metadata": {},
   "outputs": [
    {
     "name": "stdout",
     "output_type": "stream",
     "text": [
      "(17562, 35)\n",
      "Index(['MAL_ID', 'Name', 'Score', 'Genres', 'English name', 'Japanese name',\n",
      "       'Type', 'Episodes', 'Aired', 'Premiered', 'Producers', 'Licensors',\n",
      "       'Studios', 'Source', 'Duration', 'Rating', 'Ranked', 'Popularity',\n",
      "       'Members', 'Favorites', 'Watching', 'Completed', 'On-Hold', 'Dropped',\n",
      "       'Plan to Watch', 'Score-10', 'Score-9', 'Score-8', 'Score-7', 'Score-6',\n",
      "       'Score-5', 'Score-4', 'Score-3', 'Score-2', 'Score-1'],\n",
      "      dtype='object')\n"
     ]
    },
    {
     "data": {
      "text/html": [
       "<div>\n",
       "<style scoped>\n",
       "    .dataframe tbody tr th:only-of-type {\n",
       "        vertical-align: middle;\n",
       "    }\n",
       "\n",
       "    .dataframe tbody tr th {\n",
       "        vertical-align: top;\n",
       "    }\n",
       "\n",
       "    .dataframe thead th {\n",
       "        text-align: right;\n",
       "    }\n",
       "</style>\n",
       "<table border=\"1\" class=\"dataframe\">\n",
       "  <thead>\n",
       "    <tr style=\"text-align: right;\">\n",
       "      <th></th>\n",
       "      <th>MAL_ID</th>\n",
       "      <th>Name</th>\n",
       "      <th>Score</th>\n",
       "      <th>Genres</th>\n",
       "      <th>English name</th>\n",
       "      <th>Japanese name</th>\n",
       "      <th>Type</th>\n",
       "      <th>Episodes</th>\n",
       "      <th>Aired</th>\n",
       "      <th>Premiered</th>\n",
       "      <th>...</th>\n",
       "      <th>Score-10</th>\n",
       "      <th>Score-9</th>\n",
       "      <th>Score-8</th>\n",
       "      <th>Score-7</th>\n",
       "      <th>Score-6</th>\n",
       "      <th>Score-5</th>\n",
       "      <th>Score-4</th>\n",
       "      <th>Score-3</th>\n",
       "      <th>Score-2</th>\n",
       "      <th>Score-1</th>\n",
       "    </tr>\n",
       "  </thead>\n",
       "  <tbody>\n",
       "    <tr>\n",
       "      <th>0</th>\n",
       "      <td>1</td>\n",
       "      <td>Cowboy Bebop</td>\n",
       "      <td>8.78</td>\n",
       "      <td>Action, Adventure, Comedy, Drama, Sci-Fi, Space</td>\n",
       "      <td>Cowboy Bebop</td>\n",
       "      <td>カウボーイビバップ</td>\n",
       "      <td>TV</td>\n",
       "      <td>26</td>\n",
       "      <td>Apr 3, 1998 to Apr 24, 1999</td>\n",
       "      <td>Spring 1998</td>\n",
       "      <td>...</td>\n",
       "      <td>229170</td>\n",
       "      <td>182126</td>\n",
       "      <td>131625</td>\n",
       "      <td>62330</td>\n",
       "      <td>20688</td>\n",
       "      <td>8904</td>\n",
       "      <td>3184</td>\n",
       "      <td>1357</td>\n",
       "      <td>741</td>\n",
       "      <td>1580</td>\n",
       "    </tr>\n",
       "    <tr>\n",
       "      <th>1</th>\n",
       "      <td>5</td>\n",
       "      <td>Cowboy Bebop: Tengoku no Tobira</td>\n",
       "      <td>8.39</td>\n",
       "      <td>Action, Drama, Mystery, Sci-Fi, Space</td>\n",
       "      <td>Cowboy Bebop:The Movie</td>\n",
       "      <td>カウボーイビバップ 天国の扉</td>\n",
       "      <td>Movie</td>\n",
       "      <td>1</td>\n",
       "      <td>1-Sep-01</td>\n",
       "      <td>Unknown</td>\n",
       "      <td>...</td>\n",
       "      <td>30043</td>\n",
       "      <td>49201</td>\n",
       "      <td>49505</td>\n",
       "      <td>22632</td>\n",
       "      <td>5805</td>\n",
       "      <td>1877</td>\n",
       "      <td>577</td>\n",
       "      <td>221</td>\n",
       "      <td>109</td>\n",
       "      <td>379</td>\n",
       "    </tr>\n",
       "    <tr>\n",
       "      <th>2</th>\n",
       "      <td>6</td>\n",
       "      <td>Trigun</td>\n",
       "      <td>8.24</td>\n",
       "      <td>Action, Sci-Fi, Adventure, Comedy, Drama, Shounen</td>\n",
       "      <td>Trigun</td>\n",
       "      <td>トライガン</td>\n",
       "      <td>TV</td>\n",
       "      <td>26</td>\n",
       "      <td>Apr 1, 1998 to Sep 30, 1998</td>\n",
       "      <td>Spring 1998</td>\n",
       "      <td>...</td>\n",
       "      <td>50229</td>\n",
       "      <td>75651</td>\n",
       "      <td>86142</td>\n",
       "      <td>49432</td>\n",
       "      <td>15376</td>\n",
       "      <td>5838</td>\n",
       "      <td>1965</td>\n",
       "      <td>664</td>\n",
       "      <td>316</td>\n",
       "      <td>533</td>\n",
       "    </tr>\n",
       "    <tr>\n",
       "      <th>3</th>\n",
       "      <td>7</td>\n",
       "      <td>Witch Hunter Robin</td>\n",
       "      <td>7.27</td>\n",
       "      <td>Action, Mystery, Police, Supernatural, Drama, ...</td>\n",
       "      <td>Witch Hunter Robin</td>\n",
       "      <td>Witch Hunter ROBIN (ウイッチハンターロビン)</td>\n",
       "      <td>TV</td>\n",
       "      <td>26</td>\n",
       "      <td>Jul 2, 2002 to Dec 24, 2002</td>\n",
       "      <td>Summer 2002</td>\n",
       "      <td>...</td>\n",
       "      <td>2182</td>\n",
       "      <td>4806</td>\n",
       "      <td>10128</td>\n",
       "      <td>11618</td>\n",
       "      <td>5709</td>\n",
       "      <td>2920</td>\n",
       "      <td>1083</td>\n",
       "      <td>353</td>\n",
       "      <td>164</td>\n",
       "      <td>131</td>\n",
       "    </tr>\n",
       "    <tr>\n",
       "      <th>4</th>\n",
       "      <td>8</td>\n",
       "      <td>Bouken Ou Beet</td>\n",
       "      <td>6.98</td>\n",
       "      <td>Adventure, Fantasy, Shounen, Supernatural</td>\n",
       "      <td>Beet the Vandel Buster</td>\n",
       "      <td>冒険王ビィト</td>\n",
       "      <td>TV</td>\n",
       "      <td>52</td>\n",
       "      <td>Sep 30, 2004 to Sep 29, 2005</td>\n",
       "      <td>Fall 2004</td>\n",
       "      <td>...</td>\n",
       "      <td>312</td>\n",
       "      <td>529</td>\n",
       "      <td>1242</td>\n",
       "      <td>1713</td>\n",
       "      <td>1068</td>\n",
       "      <td>634</td>\n",
       "      <td>265</td>\n",
       "      <td>83</td>\n",
       "      <td>50</td>\n",
       "      <td>27</td>\n",
       "    </tr>\n",
       "  </tbody>\n",
       "</table>\n",
       "<p>5 rows × 35 columns</p>\n",
       "</div>"
      ],
      "text/plain": [
       "   MAL_ID                             Name Score  \\\n",
       "0       1                     Cowboy Bebop  8.78   \n",
       "1       5  Cowboy Bebop: Tengoku no Tobira  8.39   \n",
       "2       6                           Trigun  8.24   \n",
       "3       7               Witch Hunter Robin  7.27   \n",
       "4       8                   Bouken Ou Beet  6.98   \n",
       "\n",
       "                                              Genres            English name  \\\n",
       "0    Action, Adventure, Comedy, Drama, Sci-Fi, Space            Cowboy Bebop   \n",
       "1              Action, Drama, Mystery, Sci-Fi, Space  Cowboy Bebop:The Movie   \n",
       "2  Action, Sci-Fi, Adventure, Comedy, Drama, Shounen                  Trigun   \n",
       "3  Action, Mystery, Police, Supernatural, Drama, ...      Witch Hunter Robin   \n",
       "4          Adventure, Fantasy, Shounen, Supernatural  Beet the Vandel Buster   \n",
       "\n",
       "                      Japanese name   Type Episodes  \\\n",
       "0                         カウボーイビバップ     TV       26   \n",
       "1                    カウボーイビバップ 天国の扉  Movie        1   \n",
       "2                             トライガン     TV       26   \n",
       "3  Witch Hunter ROBIN (ウイッチハンターロビン)     TV       26   \n",
       "4                            冒険王ビィト     TV       52   \n",
       "\n",
       "                          Aired    Premiered  ... Score-10 Score-9 Score-8  \\\n",
       "0   Apr 3, 1998 to Apr 24, 1999  Spring 1998  ...   229170  182126  131625   \n",
       "1                      1-Sep-01      Unknown  ...    30043   49201   49505   \n",
       "2   Apr 1, 1998 to Sep 30, 1998  Spring 1998  ...    50229   75651   86142   \n",
       "3   Jul 2, 2002 to Dec 24, 2002  Summer 2002  ...     2182    4806   10128   \n",
       "4  Sep 30, 2004 to Sep 29, 2005    Fall 2004  ...      312     529    1242   \n",
       "\n",
       "  Score-7 Score-6 Score-5 Score-4  Score-3  Score-2  Score-1  \n",
       "0   62330   20688    8904    3184     1357      741     1580  \n",
       "1   22632    5805    1877     577      221      109      379  \n",
       "2   49432   15376    5838    1965      664      316      533  \n",
       "3   11618    5709    2920    1083      353      164      131  \n",
       "4    1713    1068     634     265       83       50       27  \n",
       "\n",
       "[5 rows x 35 columns]"
      ]
     },
     "execution_count": 4,
     "metadata": {},
     "output_type": "execute_result"
    }
   ],
   "source": [
    "anime_df = pd.read_csv(\"data/anime.csv\")\n",
    "\n",
    "\n",
    "print(anime_df.shape)\n",
    "print(anime_df.columns.unique())\n",
    "anime_df.head()"
   ]
  },
  {
   "attachments": {},
   "cell_type": "markdown",
   "id": "f7068e1f",
   "metadata": {},
   "source": [
    "#### Anime Ratings Dataset (rating_complete.csv)"
   ]
  },
  {
   "cell_type": "code",
   "execution_count": 5,
   "id": "30fc7799",
   "metadata": {},
   "outputs": [
    {
     "name": "stdout",
     "output_type": "stream",
     "text": [
      "(203504, 3)\n",
      "Index(['user_id', 'anime_id', 'rating'], dtype='object')\n"
     ]
    },
    {
     "data": {
      "text/html": [
       "<div>\n",
       "<style scoped>\n",
       "    .dataframe tbody tr th:only-of-type {\n",
       "        vertical-align: middle;\n",
       "    }\n",
       "\n",
       "    .dataframe tbody tr th {\n",
       "        vertical-align: top;\n",
       "    }\n",
       "\n",
       "    .dataframe thead th {\n",
       "        text-align: right;\n",
       "    }\n",
       "</style>\n",
       "<table border=\"1\" class=\"dataframe\">\n",
       "  <thead>\n",
       "    <tr style=\"text-align: right;\">\n",
       "      <th></th>\n",
       "      <th>user_id</th>\n",
       "      <th>anime_id</th>\n",
       "      <th>rating</th>\n",
       "    </tr>\n",
       "  </thead>\n",
       "  <tbody>\n",
       "    <tr>\n",
       "      <th>0</th>\n",
       "      <td>71</td>\n",
       "      <td>164</td>\n",
       "      <td>10</td>\n",
       "    </tr>\n",
       "    <tr>\n",
       "      <th>1</th>\n",
       "      <td>816</td>\n",
       "      <td>431</td>\n",
       "      <td>9</td>\n",
       "    </tr>\n",
       "    <tr>\n",
       "      <th>2</th>\n",
       "      <td>816</td>\n",
       "      <td>16870</td>\n",
       "      <td>7</td>\n",
       "    </tr>\n",
       "    <tr>\n",
       "      <th>3</th>\n",
       "      <td>816</td>\n",
       "      <td>199</td>\n",
       "      <td>8</td>\n",
       "    </tr>\n",
       "    <tr>\n",
       "      <th>4</th>\n",
       "      <td>816</td>\n",
       "      <td>164</td>\n",
       "      <td>9</td>\n",
       "    </tr>\n",
       "  </tbody>\n",
       "</table>\n",
       "</div>"
      ],
      "text/plain": [
       "   user_id  anime_id  rating\n",
       "0       71       164      10\n",
       "1      816       431       9\n",
       "2      816     16870       7\n",
       "3      816       199       8\n",
       "4      816       164       9"
      ]
     },
     "execution_count": 5,
     "metadata": {},
     "output_type": "execute_result"
    }
   ],
   "source": [
    "ratings_df = pd.read_csv(\"data/frontend_ratings_sample.csv\")\n",
    "\n",
    "print(ratings_df.shape)\n",
    "print(ratings_df.columns.unique())\n",
    "ratings_df.head()"
   ]
  },
  {
   "attachments": {},
   "cell_type": "markdown",
   "id": "2f7eb822",
   "metadata": {},
   "source": [
    "#### Dataset Cleaning"
   ]
  },
  {
   "cell_type": "code",
   "execution_count": 6,
   "id": "569129e3",
   "metadata": {},
   "outputs": [
    {
     "name": "stdout",
     "output_type": "stream",
     "text": [
      "Before:\n",
      "(17562, 35)\n",
      "(203504, 3)\n",
      "\n",
      "After:\n",
      "(17562, 35)\n",
      "(203504, 3)\n"
     ]
    }
   ],
   "source": [
    "print(\"Before:\")\n",
    "print(anime_df.shape)\n",
    "print(ratings_df.shape)\n",
    "\n",
    "anime_df.dropna(inplace=True)\n",
    "ratings_df.dropna(inplace=True)\n",
    "\n",
    "print(\"\\nAfter:\")\n",
    "print(anime_df.shape)\n",
    "print(ratings_df.shape)"
   ]
  },
  {
   "attachments": {},
   "cell_type": "markdown",
   "id": "b34225c4",
   "metadata": {},
   "source": [
    "#### CSV for mapping Name to ID used by app.py (id_to_name.csv)"
   ]
  },
  {
   "cell_type": "code",
   "execution_count": 7,
   "id": "fc1b9589",
   "metadata": {},
   "outputs": [],
   "source": [
    "name_to_id_df = anime_df[['MAL_ID', 'Name', 'English name']]\n",
    "name_to_id_df.to_csv('data/id_to_name.csv', index=False)"
   ]
  },
  {
   "attachments": {},
   "cell_type": "markdown",
   "id": "36bec1f1",
   "metadata": {},
   "source": [
    "#### Dictionaries for Anime ID and Name Mappings"
   ]
  },
  {
   "cell_type": "code",
   "execution_count": 8,
   "id": "b872c30d",
   "metadata": {},
   "outputs": [],
   "source": [
    "rid_to_name, name_to_rid = projutils.read_item_names()"
   ]
  },
  {
   "attachments": {},
   "cell_type": "markdown",
   "id": "fad0cbd6",
   "metadata": {},
   "source": [
    "## Data Exploratory Analysis"
   ]
  },
  {
   "cell_type": "code",
   "execution_count": 9,
   "id": "2ab6ec75",
   "metadata": {},
   "outputs": [
    {
     "name": "stdout",
     "output_type": "stream",
     "text": [
      "Number of rated anime: 9646\n",
      "Total number of anime: 17562\n",
      "Percentage of rated anime: 54.93%\n"
     ]
    }
   ],
   "source": [
    "anime_ratings_counts = ratings_df['anime_id'].value_counts()\n",
    "print(f'Number of rated anime: {len(anime_ratings_counts)}')\n",
    "print(f'Total number of anime: {len(anime_df)}')\n",
    "print(f'Percentage of rated anime: {(len(anime_ratings_counts) / len(anime_df) * 100):.2f}%')"
   ]
  },
  {
   "cell_type": "code",
   "execution_count": 10,
   "id": "0a999960",
   "metadata": {},
   "outputs": [
    {
     "name": "stdout",
     "output_type": "stream",
     "text": [
      "Rating Counts:\n"
     ]
    },
    {
     "data": {
      "text/plain": [
       "rating\n",
       "8     50267\n",
       "7     48783\n",
       "9     33862\n",
       "6     25155\n",
       "10    24974\n",
       "5     11680\n",
       "4      4625\n",
       "3      2162\n",
       "2      1178\n",
       "1       818\n",
       "Name: count, dtype: int64"
      ]
     },
     "execution_count": 10,
     "metadata": {},
     "output_type": "execute_result"
    },
    {
     "data": {
      "image/png": "[encoded data removed]",
      "text/plain": [
       "<Figure size 640x480 with 1 Axes>"
      ]
     },
     "metadata": {},
     "output_type": "display_data"
    }
   ],
   "source": [
    "rating_values = ratings_df['rating'].unique()\n",
    "rating_counts = ratings_df['rating'].value_counts()\n",
    "plt.bar(rating_counts.index, rating_counts)\n",
    "plt.xlabel(\"Rating\")\n",
    "plt.xticks(rating_values)\n",
    "plt.ylabel(\"Frequency (in millions)\")\n",
    "\n",
    "print(\"Rating Counts:\")\n",
    "rating_counts"
   ]
  },
  {
   "cell_type": "code",
   "execution_count": 11,
   "id": "2186d4cb",
   "metadata": {},
   "outputs": [],
   "source": [
    "# returns bounds to be considered outlier for a distribution based on IQR method\n",
    "def iqr_bounds(value_counts):\n",
    "    quartiles = np.percentile(value_counts, [25, 50, 75])\n",
    "    iqr = quartiles[2] - quartiles[0]\n",
    "    lower = quartiles[0] - 1.5 * iqr\n",
    "    upper = quartiles[2] + 1.5 * iqr\n",
    "    return lower, upper\n",
    "\n",
    "# plots both a histogram and boxplot for user ratings per anime and user in a 4x4 grid\n",
    "# contains an outliers parameter to keep/remove outliers from the distribution\n",
    "def plot_distributions(df, outliers):\n",
    "    fig, axs = plt.subplots(2, 2, figsize=(8, 8))\n",
    "    fig.tight_layout(pad=5)\n",
    "\n",
    "    x_labels = [\"Ratings Count Per Anime\", \"Ratings Count Per User\"]\n",
    "\n",
    "    for idx, column in enumerate(['anime_id', 'user_id']):\n",
    "        value_counts = df[column].value_counts()\n",
    "        lower, upper = iqr_bounds(value_counts)\n",
    "\n",
    "        if not outliers:\n",
    "            value_counts = value_counts[(value_counts >= lower) & (value_counts <= upper)]\n",
    "\n",
    "        axs[0, idx].hist(value_counts, bins=50, edgecolor = \"black\")\n",
    "        axs[0, idx].set_xlabel(x_labels[idx])\n",
    "        axs[0, idx].set_ylabel(\"Frequency\")\n",
    "\n",
    "        axs[1, idx].boxplot(value_counts, vert=False)\n",
    "        axs[1, idx].set_xlabel(x_labels[idx])\n",
    "        axs[1, idx].set_yticks([])"
   ]
  },
  {
   "attachments": {},
   "cell_type": "markdown",
   "id": "4d5c1a59",
   "metadata": {},
   "source": [
    "#### Ratings Distributions with Outliers"
   ]
  },
  {
   "cell_type": "code",
   "execution_count": 12,
   "id": "50ec6b38",
   "metadata": {},
   "outputs": [
    {
     "data": {
      "text/html": [
       "<div>\n",
       "<style scoped>\n",
       "    .dataframe tbody tr th:only-of-type {\n",
       "        vertical-align: middle;\n",
       "    }\n",
       "\n",
       "    .dataframe tbody tr th {\n",
       "        vertical-align: top;\n",
       "    }\n",
       "\n",
       "    .dataframe thead th {\n",
       "        text-align: right;\n",
       "    }\n",
       "</style>\n",
       "<table border=\"1\" class=\"dataframe\">\n",
       "  <thead>\n",
       "    <tr style=\"text-align: right;\">\n",
       "      <th></th>\n",
       "      <th>Rating Count/Anime</th>\n",
       "      <th>Rating Count/User</th>\n",
       "    </tr>\n",
       "  </thead>\n",
       "  <tbody>\n",
       "    <tr>\n",
       "      <th>count</th>\n",
       "      <td>9646.000000</td>\n",
       "      <td>1014.000000</td>\n",
       "    </tr>\n",
       "    <tr>\n",
       "      <th>mean</th>\n",
       "      <td>21.097242</td>\n",
       "      <td>200.694280</td>\n",
       "    </tr>\n",
       "    <tr>\n",
       "      <th>std</th>\n",
       "      <td>45.457356</td>\n",
       "      <td>270.298532</td>\n",
       "    </tr>\n",
       "    <tr>\n",
       "      <th>min</th>\n",
       "      <td>1.000000</td>\n",
       "      <td>1.000000</td>\n",
       "    </tr>\n",
       "    <tr>\n",
       "      <th>25%</th>\n",
       "      <td>2.000000</td>\n",
       "      <td>44.000000</td>\n",
       "    </tr>\n",
       "    <tr>\n",
       "      <th>50%</th>\n",
       "      <td>4.000000</td>\n",
       "      <td>124.000000</td>\n",
       "    </tr>\n",
       "    <tr>\n",
       "      <th>75%</th>\n",
       "      <td>19.000000</td>\n",
       "      <td>249.750000</td>\n",
       "    </tr>\n",
       "    <tr>\n",
       "      <th>max</th>\n",
       "      <td>610.000000</td>\n",
       "      <td>3315.000000</td>\n",
       "    </tr>\n",
       "  </tbody>\n",
       "</table>\n",
       "</div>"
      ],
      "text/plain": [
       "       Rating Count/Anime  Rating Count/User\n",
       "count         9646.000000        1014.000000\n",
       "mean            21.097242         200.694280\n",
       "std             45.457356         270.298532\n",
       "min              1.000000           1.000000\n",
       "25%              2.000000          44.000000\n",
       "50%              4.000000         124.000000\n",
       "75%             19.000000         249.750000\n",
       "max            610.000000        3315.000000"
      ]
     },
     "execution_count": 12,
     "metadata": {},
     "output_type": "execute_result"
    }
   ],
   "source": [
    "population_counts_stats = pd.concat([ratings_df['anime_id'].value_counts().describe(),\n",
    "                                     ratings_df['user_id'].value_counts().describe()],\n",
    "                                     axis=1)\n",
    "population_counts_stats.columns = ['Rating Count/Anime', 'Rating Count/User']\n",
    "population_counts_stats"
   ]
  },
  {
   "cell_type": "code",
   "execution_count": 13,
   "id": "d0289f04",
   "metadata": {},
   "outputs": [
    {
     "data": {
      "image/png": "[encoded data removed]",
      "text/plain": [
       "<Figure size 800x800 with 4 Axes>"
      ]
     },
     "metadata": {},
     "output_type": "display_data"
    }
   ],
   "source": [
    "plot_distributions(ratings_df, outliers=True)"
   ]
  },
  {
   "attachments": {},
   "cell_type": "markdown",
   "id": "b0a77e3f",
   "metadata": {},
   "source": [
    "#### Ratings Distributions without Outliers"
   ]
  },
  {
   "cell_type": "code",
   "execution_count": 14,
   "id": "163cf085",
   "metadata": {},
   "outputs": [
    {
     "data": {
      "image/png": "[encoded data removed]",
      "text/plain": [
       "<Figure size 800x800 with 4 Axes>"
      ]
     },
     "metadata": {},
     "output_type": "display_data"
    }
   ],
   "source": [
    "plot_distributions(ratings_df, outliers=False)"
   ]
  },
  {
   "attachments": {},
   "cell_type": "markdown",
   "id": "598a6005",
   "metadata": {},
   "source": [
    "#### Ratings Random Sample"
   ]
  },
  {
   "cell_type": "code",
   "execution_count": 15,
   "id": "9af8939a",
   "metadata": {},
   "outputs": [],
   "source": [
    "# From a dataframe sample all the ratings from N random users, using 'User ID'\n",
    "def sample_n_user_ratings(source_df, n):\n",
    "    users = source_df['user_id'].unique()\n",
    "    user_id_set = set(np.random.choice(users, size=n, replace=True))\n",
    "\n",
    "    result_df = source_df[source_df['user_id'].isin(user_id_set)].copy()\n",
    "    \n",
    "    return result_df\n",
    "\n",
    "ratings_sample = sample_n_user_ratings(ratings_df, 2000)"
   ]
  },
  {
   "cell_type": "code",
   "execution_count": 16,
   "id": "b930d382",
   "metadata": {},
   "outputs": [
    {
     "data": {
      "text/html": [
       "<div>\n",
       "<style scoped>\n",
       "    .dataframe tbody tr th:only-of-type {\n",
       "        vertical-align: middle;\n",
       "    }\n",
       "\n",
       "    .dataframe tbody tr th {\n",
       "        vertical-align: top;\n",
       "    }\n",
       "\n",
       "    .dataframe thead th {\n",
       "        text-align: right;\n",
       "    }\n",
       "</style>\n",
       "<table border=\"1\" class=\"dataframe\">\n",
       "  <thead>\n",
       "    <tr style=\"text-align: right;\">\n",
       "      <th></th>\n",
       "      <th>Rating Count/Anime</th>\n",
       "      <th>Rating Count/User</th>\n",
       "    </tr>\n",
       "  </thead>\n",
       "  <tbody>\n",
       "    <tr>\n",
       "      <th>count</th>\n",
       "      <td>9487.000000</td>\n",
       "      <td>882.000000</td>\n",
       "    </tr>\n",
       "    <tr>\n",
       "      <th>mean</th>\n",
       "      <td>18.855170</td>\n",
       "      <td>202.810658</td>\n",
       "    </tr>\n",
       "    <tr>\n",
       "      <th>std</th>\n",
       "      <td>39.944341</td>\n",
       "      <td>276.313036</td>\n",
       "    </tr>\n",
       "    <tr>\n",
       "      <th>min</th>\n",
       "      <td>1.000000</td>\n",
       "      <td>1.000000</td>\n",
       "    </tr>\n",
       "    <tr>\n",
       "      <th>25%</th>\n",
       "      <td>2.000000</td>\n",
       "      <td>45.000000</td>\n",
       "    </tr>\n",
       "    <tr>\n",
       "      <th>50%</th>\n",
       "      <td>4.000000</td>\n",
       "      <td>125.500000</td>\n",
       "    </tr>\n",
       "    <tr>\n",
       "      <th>75%</th>\n",
       "      <td>17.000000</td>\n",
       "      <td>253.750000</td>\n",
       "    </tr>\n",
       "    <tr>\n",
       "      <th>max</th>\n",
       "      <td>530.000000</td>\n",
       "      <td>3315.000000</td>\n",
       "    </tr>\n",
       "  </tbody>\n",
       "</table>\n",
       "</div>"
      ],
      "text/plain": [
       "       Rating Count/Anime  Rating Count/User\n",
       "count         9487.000000         882.000000\n",
       "mean            18.855170         202.810658\n",
       "std             39.944341         276.313036\n",
       "min              1.000000           1.000000\n",
       "25%              2.000000          45.000000\n",
       "50%              4.000000         125.500000\n",
       "75%             17.000000         253.750000\n",
       "max            530.000000        3315.000000"
      ]
     },
     "execution_count": 16,
     "metadata": {},
     "output_type": "execute_result"
    }
   ],
   "source": [
    "sample_counts_stats = pd.concat([ratings_sample['anime_id'].value_counts().describe(),\n",
    "                                 ratings_sample['user_id'].value_counts().describe()],\n",
    "                                 axis=1)\n",
    "sample_counts_stats.columns = ['Rating Count/Anime', 'Rating Count/User']\n",
    "sample_counts_stats"
   ]
  },
  {
   "cell_type": "code",
   "execution_count": 17,
   "id": "87e95c2b",
   "metadata": {},
   "outputs": [
    {
     "data": {
      "image/png": "[encoded data removed]",
      "text/plain": [
       "<Figure size 800x800 with 4 Axes>"
      ]
     },
     "metadata": {},
     "output_type": "display_data"
    }
   ],
   "source": [
    "plot_distributions(ratings_sample, outliers=False)"
   ]
  },
  {
   "attachments": {},
   "cell_type": "markdown",
   "id": "79dd8d9c",
   "metadata": {},
   "source": [
    "unique anime rated over number of users sampled"
   ]
  },
  {
   "cell_type": "code",
   "execution_count": 18,
   "id": "5a60b07e",
   "metadata": {},
   "outputs": [
    {
     "name": "stderr",
     "output_type": "stream",
     "text": [
      "/opt/anaconda3/envs/venv/lib/python3.9/site-packages/seaborn/_oldcore.py:1119: FutureWarning: use_inf_as_na option is deprecated and will be removed in a future version. Convert inf values to NaN before operating instead.\n",
      "  with pd.option_context('mode.use_inf_as_na', True):\n",
      "/opt/anaconda3/envs/venv/lib/python3.9/site-packages/seaborn/_oldcore.py:1119: FutureWarning: use_inf_as_na option is deprecated and will be removed in a future version. Convert inf values to NaN before operating instead.\n",
      "  with pd.option_context('mode.use_inf_as_na', True):\n"
     ]
    },
    {
     "data": {
      "image/png": "[encoded data removed]",
      "text/plain": [
       "<Figure size 640x480 with 1 Axes>"
      ]
     },
     "metadata": {},
     "output_type": "display_data"
    }
   ],
   "source": [
    "unique_anime_rated = pd.DataFrame(columns = ['user_count', 'anime_rated'])\n",
    "\n",
    "for i in range(1000, 20000, 1000):\n",
    "    count = 0\n",
    "    for j in range(1,6):\n",
    "        plot_sample = sample_n_user_ratings(ratings_df, i)\n",
    "        animeRated = len(plot_sample['anime_id'].unique())\n",
    "        count += animeRated\n",
    "    count /= 5\n",
    "\n",
    "    unique_anime_rated.loc[len(unique_anime_rated)] = [i, count]\n",
    "    \n",
    "sns.lineplot(x='user_count', y='anime_rated', data=unique_anime_rated, markers='o')\n",
    "plt.show()"
   ]
  },
  {
   "attachments": {},
   "cell_type": "markdown",
   "id": "8bc1f19a",
   "metadata": {},
   "source": [
    "#### Ratings Sample CSV File (frontend_ratings_sample.csv)"
   ]
  },
  {
   "cell_type": "code",
   "execution_count": 19,
   "id": "c9f90997",
   "metadata": {},
   "outputs": [],
   "source": [
    "# Save as file for frontend usage\n",
    "ratings_sample.to_csv('data/frontend_ratings_sample.csv', index=False)"
   ]
  },
  {
   "attachments": {},
   "cell_type": "markdown",
   "id": "7bec2aff",
   "metadata": {},
   "source": [
    "## Singular Value Decomposition (SVD)"
   ]
  },
  {
   "attachments": {},
   "cell_type": "markdown",
   "id": "4b4af08e",
   "metadata": {},
   "source": [
    "Data Setup"
   ]
  },
  {
   "cell_type": "code",
   "execution_count": 20,
   "id": "b2e964a3",
   "metadata": {},
   "outputs": [],
   "source": [
    "svd_ratings_dataset = projutils.create_dataset_from_df(ratings_sample)"
   ]
  },
  {
   "attachments": {},
   "cell_type": "markdown",
   "id": "42a59f52",
   "metadata": {},
   "source": [
    "Grid Search"
   ]
  },
  {
   "cell_type": "code",
   "execution_count": 21,
   "id": "50c3c52a",
   "metadata": {},
   "outputs": [
    {
     "name": "stderr",
     "output_type": "stream",
     "text": [
      "[Parallel(n_jobs=-1)]: Using backend LokyBackend with 8 concurrent workers.\n",
      "[Parallel(n_jobs=-1)]: Done  16 tasks      | elapsed:    4.9s\n"
     ]
    },
    {
     "name": "stdout",
     "output_type": "stream",
     "text": [
      "{'rmse': 1.2173571730173651, 'mae': 0.9122265754145552}\n",
      "{'rmse': {'lr_all': 0.01, 'n_factors': 100, 'reg_all': 0.1, 'n_epochs': 25}, 'mae': {'lr_all': 0.01, 'n_factors': 100, 'reg_all': 0.1, 'n_epochs': 25}}\n"
     ]
    },
    {
     "name": "stderr",
     "output_type": "stream",
     "text": [
      "[Parallel(n_jobs=-1)]: Done  75 out of  75 | elapsed:   28.5s finished\n"
     ]
    }
   ],
   "source": [
    "# Grid search for optimal hyperparameters\n",
    "param_grid = {\n",
    "    'lr_all' : [.01],\n",
    "    'n_factors' : [10, 25, 50, 75, 100],\n",
    "    'reg_all': [.1],\n",
    "    'n_epochs' : [25, 50, 100]\n",
    "}\n",
    "gridsearch_svd = GridSearchCV(\n",
    "    SVD, \n",
    "    param_grid = param_grid, \n",
    "    n_jobs = -1, \n",
    "    joblib_verbose = 3)\n",
    "\n",
    "gridsearch_svd.fit(svd_ratings_dataset)\n",
    "\n",
    "print(gridsearch_svd.best_score)\n",
    "print(gridsearch_svd.best_params)"
   ]
  },
  {
   "cell_type": "code",
   "execution_count": 22,
   "id": "ef63e891",
   "metadata": {},
   "outputs": [
    {
     "name": "stderr",
     "output_type": "stream",
     "text": [
      "/opt/anaconda3/envs/venv/lib/python3.9/site-packages/seaborn/_oldcore.py:1119: FutureWarning: use_inf_as_na option is deprecated and will be removed in a future version. Convert inf values to NaN before operating instead.\n",
      "  with pd.option_context('mode.use_inf_as_na', True):\n",
      "/opt/anaconda3/envs/venv/lib/python3.9/site-packages/seaborn/_oldcore.py:1119: FutureWarning: use_inf_as_na option is deprecated and will be removed in a future version. Convert inf values to NaN before operating instead.\n",
      "  with pd.option_context('mode.use_inf_as_na', True):\n",
      "/opt/anaconda3/envs/venv/lib/python3.9/site-packages/seaborn/_oldcore.py:1075: FutureWarning: When grouping with a length-1 list-like, you will need to pass a length-1 tuple to get_group in a future version of pandas. Pass `(name,)` instead of `name` to silence this warning.\n",
      "  data_subset = grouped_data.get_group(pd_key)\n",
      "/opt/anaconda3/envs/venv/lib/python3.9/site-packages/seaborn/_oldcore.py:1075: FutureWarning: When grouping with a length-1 list-like, you will need to pass a length-1 tuple to get_group in a future version of pandas. Pass `(name,)` instead of `name` to silence this warning.\n",
      "  data_subset = grouped_data.get_group(pd_key)\n",
      "/opt/anaconda3/envs/venv/lib/python3.9/site-packages/seaborn/_oldcore.py:1075: FutureWarning: When grouping with a length-1 list-like, you will need to pass a length-1 tuple to get_group in a future version of pandas. Pass `(name,)` instead of `name` to silence this warning.\n",
      "  data_subset = grouped_data.get_group(pd_key)\n"
     ]
    },
    {
     "data": {
      "image/png": "[encoded data removed]",
      "text/plain": [
       "<Figure size 640x480 with 1 Axes>"
      ]
     },
     "metadata": {},
     "output_type": "display_data"
    },
    {
     "name": "stderr",
     "output_type": "stream",
     "text": [
      "/opt/anaconda3/envs/venv/lib/python3.9/site-packages/seaborn/_oldcore.py:1119: FutureWarning: use_inf_as_na option is deprecated and will be removed in a future version. Convert inf values to NaN before operating instead.\n",
      "  with pd.option_context('mode.use_inf_as_na', True):\n",
      "/opt/anaconda3/envs/venv/lib/python3.9/site-packages/seaborn/_oldcore.py:1119: FutureWarning: use_inf_as_na option is deprecated and will be removed in a future version. Convert inf values to NaN before operating instead.\n",
      "  with pd.option_context('mode.use_inf_as_na', True):\n",
      "/opt/anaconda3/envs/venv/lib/python3.9/site-packages/seaborn/_oldcore.py:1075: FutureWarning: When grouping with a length-1 list-like, you will need to pass a length-1 tuple to get_group in a future version of pandas. Pass `(name,)` instead of `name` to silence this warning.\n",
      "  data_subset = grouped_data.get_group(pd_key)\n",
      "/opt/anaconda3/envs/venv/lib/python3.9/site-packages/seaborn/_oldcore.py:1075: FutureWarning: When grouping with a length-1 list-like, you will need to pass a length-1 tuple to get_group in a future version of pandas. Pass `(name,)` instead of `name` to silence this warning.\n",
      "  data_subset = grouped_data.get_group(pd_key)\n",
      "/opt/anaconda3/envs/venv/lib/python3.9/site-packages/seaborn/_oldcore.py:1075: FutureWarning: When grouping with a length-1 list-like, you will need to pass a length-1 tuple to get_group in a future version of pandas. Pass `(name,)` instead of `name` to silence this warning.\n",
      "  data_subset = grouped_data.get_group(pd_key)\n"
     ]
    },
    {
     "data": {
      "image/png": "[encoded data removed]",
      "text/plain": [
       "<Figure size 640x480 with 1 Axes>"
      ]
     },
     "metadata": {},
     "output_type": "display_data"
    }
   ],
   "source": [
    "gs_results_df = pd.DataFrame.from_dict(gridsearch_svd.cv_results)\n",
    "\n",
    "# Write results to file\n",
    "gs_results_df.to_csv('data/svd_gridsearch_results.csv', index=False)\n",
    "\n",
    "# Train time for different n factors (embedding size)\n",
    "sns.lineplot(x='param_n_factors', y='mean_fit_time', hue='param_n_epochs', data=gs_results_df, marker='o')\n",
    "plt.show()\n",
    "\n",
    "# RMSE for different n factors\n",
    "sns.lineplot(x='param_n_factors', y='mean_test_rmse', hue='param_n_epochs', data=gs_results_df, marker='o')\n",
    "plt.show()"
   ]
  },
  {
   "cell_type": "code",
   "execution_count": 23,
   "id": "bbbabfc3",
   "metadata": {},
   "outputs": [
    {
     "name": "stdout",
     "output_type": "stream",
     "text": [
      "{'n_factors': 100, 'n_epochs': 25, 'biased': True, 'init_mean': 0, 'init_std_dev': 0.1, 'lr_bu': 0.01, 'lr_bi': 0.01, 'lr_pu': 0.01, 'lr_qi': 0.01, 'reg_bu': 0.1, 'reg_bi': 0.1, 'reg_pu': 0.1, 'reg_qi': 0.1, 'random_state': None, 'verbose': False, 'bsl_options': {}, 'sim_options': {'user_based': True}}\n"
     ]
    }
   ],
   "source": [
    "# Create model instance from grid search optimal hyperparameters\n",
    "svd_instance = gridsearch_svd.best_estimator[\"rmse\"]\n",
    "# Print Params\n",
    "print(svd_instance.__dict__)"
   ]
  },
  {
   "attachments": {},
   "cell_type": "markdown",
   "id": "d883694f",
   "metadata": {},
   "source": [
    "#### Recommendations with SVD Model"
   ]
  },
  {
   "cell_type": "code",
   "execution_count": 24,
   "id": "eea44434",
   "metadata": {},
   "outputs": [],
   "source": [
    "# Create predictions for a mew user provided their anime ratings\n",
    "# This refits the entire model with the new user appended onto the base df with a user ID of -1\n",
    "\n",
    "def create_predictions_for_user(model_instance, base_train_df, anime_ids, ratings):\n",
    "\n",
    "    # Create suprise dataset with new user\n",
    "    predict_dataset = projutils.create_predict_dataset(\n",
    "        base_train_df, \n",
    "        anime_ids,\n",
    "        ratings)\n",
    "\n",
    "    # Retrain\n",
    "    model_instance.fit(predict_dataset.build_full_trainset())\n",
    "\n",
    "    # Generate predictions\n",
    "    print(\"Generating Anime IDs\")\n",
    "    predict_anime_ids = list(rid_to_name)\n",
    "\n",
    "    # Remove user provided ids from being predicted\n",
    "    predict_anime_ids = [int(id) for id in predict_anime_ids if int(id) not in anime_ids]\n",
    "    predict_anime_ids = pd.unique(predict_anime_ids)\n",
    "\n",
    "    print(\"Getting Predictions\")\n",
    "    # Generate and return predictions for all the anime\n",
    "    return projutils.get_predictions(model_instance, -1, predict_anime_ids)\n",
    "\n",
    "def create_predictions_for_new_user(model_instance, base_train_df, anime_ids, ratings, print_top_25 = True):\n",
    "# No randomness between each fit\n",
    "    model_instance.random_state = 1\n",
    "\n",
    "    user_1_predictions = create_predictions_for_user(\n",
    "        model_instance,\n",
    "        base_train_df,\n",
    "        anime_ids,\n",
    "        ratings\n",
    "        )\n",
    "\n",
    "    # Print predictions\n",
    "    if print_top_25:\n",
    "        print(projutils.get_top_n_string(user_1_predictions, 25, rid_to_name))"
   ]
  },
  {
   "cell_type": "code",
   "execution_count": 25,
   "id": "f4f8484d",
   "metadata": {},
   "outputs": [
    {
     "name": "stdout",
     "output_type": "stream",
     "text": [
      "Generating Anime IDs\n",
      "Getting Predictions\n",
      "Top 25 predicted scores\n",
      "1. Kawaki wo Ameku (39112) - 8.2596\n",
      "2. GintamaÂ° (28977) - 8.1598\n",
      "3. Gintama Movie 2: Kanketsu-hen - Yorozuya yo Eien Nare (15335) - 8.0808\n",
      "4. Violet Evergarden Movie (37987) - 8.0165\n",
      "5. Gotcha! (42984) - 7.9907\n",
      "6. Oniisama e... (795) - 7.9883\n",
      "7. Saiki Kusuo no Î¨-nan 2 (34612) - 7.9872\n",
      "8. 3-gatsu no Lion 2nd Season (35180) - 7.9734\n",
      "9. Gintama. (34096) - 7.9667\n",
      "10. Owarimonogatari 2nd Season (35247) - 7.9412\n",
      "11. Zoku Owarimonogatari (36999) - 7.9411\n",
      "12. Violet Evergarden (33352) - 7.9344\n",
      "13. Ginga Eiyuu Densetsu (820) - 7.9332\n",
      "14. Ashita no Joe 2 (2921) - 7.9203\n",
      "15. Hellsing Ultimate (777) - 7.907\n",
      "16. Kizumonogatari III: Reiketsu-hen (31758) - 7.9058\n",
      "17. Fullmetal Alchemist: Brotherhood (5114) - 7.9055\n",
      "18. Gintama (918) - 7.8931\n",
      "19. Code Geass: Hangyaku no Lelouch (1575) - 7.8922\n",
      "20. Gintama' (9969) - 7.8824\n",
      "21. Gintama': Enchousen (15417) - 7.8819\n",
      "22. Kono Sekai no Katasumi ni (15227) - 7.8539\n",
      "23. Beck (57) - 7.8524\n",
      "24. Kizumonogatari I: Tekketsu-hen (9260) - 7.8474\n",
      "25. Diamond no Ace: Act II (38731) - 7.8467\n"
     ]
    },
    {
     "name": "stderr",
     "output_type": "stream",
     "text": [
      "/var/folders/lt/f4kb97ds4gq_h8_gdm5b5b5w0000gn/T/ipykernel_39389/1580876593.py:21: FutureWarning: unique with argument that is not not a Series, Index, ExtensionArray, or np.ndarray is deprecated and will raise in a future version.\n",
      "  predict_anime_ids = pd.unique(predict_anime_ids)\n"
     ]
    }
   ],
   "source": [
    "# User 1 \n",
    "# Drama / romance\n",
    "user_1_anime_ids = [4224, 23273, 1723, 32281, 37450, 2167, 121]\n",
    "user_1_ratings = [10, 8, 9, 9, 10, 9, 4]\n",
    "\n",
    "create_predictions_for_new_user(svd_instance, ratings_sample, user_1_anime_ids, user_1_ratings)"
   ]
  },
  {
   "cell_type": "code",
   "execution_count": 26,
   "id": "c9d37128",
   "metadata": {},
   "outputs": [
    {
     "name": "stdout",
     "output_type": "stream",
     "text": [
      "Generating Anime IDs\n",
      "Getting Predictions\n",
      "Top 25 predicted scores\n",
      "1. Kawaki wo Ameku (39112) - 9.302\n",
      "2. Fullmetal Alchemist: Brotherhood (5114) - 9.2997\n",
      "3. Ginga Eiyuu Densetsu (820) - 9.1173\n",
      "4. 3-gatsu no Lion 2nd Season (35180) - 9.1147\n",
      "5. Hunter x Hunter (2011) (11061) - 9.1073\n",
      "6. Monster (19) - 9.0888\n",
      "7. GintamaÂ° (28977) - 9.0516\n",
      "8. Violet Evergarden Movie (37987) - 9.0475\n",
      "9. Ashita no Joe 2 (2921) - 9.0444\n",
      "10. Gintama (918) - 9.0319\n",
      "11. Gintama' (9969) - 9.0246\n",
      "12. Gintama Movie 2: Kanketsu-hen - Yorozuya yo Eien Nare (15335) - 9.0171\n",
      "13. Owarimonogatari 2nd Season (35247) - 8.9733\n",
      "14. Gintama': Enchousen (15417) - 8.9711\n",
      "15. Uchuu Kyoudai (12431) - 8.9565\n",
      "16. Ping Pong the Animation (22135) - 8.9219\n",
      "17. Mobile Suit Gundam: The Origin - Advent of the Red Comet (39592) - 8.9191\n",
      "18. Oniisama e... (795) - 8.9159\n",
      "19. Zoku Owarimonogatari (36999) - 8.9117\n",
      "20. Code Geass: Hangyaku no Lelouch R2 (2904) - 8.9018\n",
      "21. Gintama. (34096) - 8.8845\n",
      "22. Gintama.: Shirogane no Tamashii-hen - Kouhan-sen (37491) - 8.8818\n",
      "23. Steins;Gate (9253) - 8.8768\n",
      "24. Maison Ikkoku (1453) - 8.8693\n",
      "25. Violet Evergarden (33352) - 8.8678\n"
     ]
    },
    {
     "name": "stderr",
     "output_type": "stream",
     "text": [
      "/var/folders/lt/f4kb97ds4gq_h8_gdm5b5b5w0000gn/T/ipykernel_39389/1580876593.py:21: FutureWarning: unique with argument that is not not a Series, Index, ExtensionArray, or np.ndarray is deprecated and will raise in a future version.\n",
      "  predict_anime_ids = pd.unique(predict_anime_ids)\n"
     ]
    }
   ],
   "source": [
    "# User 2 \n",
    "# Action / Adventure\n",
    "user_2_anime_ids = [114, 31964, 32051, 34134, 38000]\n",
    "user_2_ratings = [9, 10, 8, 9, 9]\n",
    "\n",
    "create_predictions_for_new_user(svd_instance, ratings_sample, user_2_anime_ids, user_2_ratings)"
   ]
  },
  {
   "cell_type": "code",
   "execution_count": 27,
   "id": "f1bd1671",
   "metadata": {},
   "outputs": [
    {
     "name": "stdout",
     "output_type": "stream",
     "text": [
      "Generating Anime IDs\n",
      "Getting Predictions\n",
      "Top 25 predicted scores\n",
      "1. Kawaki wo Ameku (39112) - 8.2015\n",
      "2. Violet Evergarden (33352) - 8.1214\n",
      "3. Hunter x Hunter (2011) (11061) - 8.0652\n",
      "4. Violet Evergarden Movie (37987) - 8.031\n",
      "5. Monster (19) - 7.939\n",
      "6. Koe no Katachi (28851) - 7.9244\n",
      "7. Detective Conan Movie 20: The Darkest Nightmare (32005) - 7.9023\n",
      "8. Mobile Suit Gundam: The Origin - Advent of the Red Comet (39592) - 7.8966\n",
      "9. Fullmetal Alchemist: Brotherhood (5114) - 7.8894\n",
      "10. Oniisama e... (795) - 7.8853\n",
      "11. Gotcha! (42984) - 7.8577\n",
      "12. City Hunter 2 (1471) - 7.8577\n",
      "13. Mahou Shoujo MadokaâMagica (9756) - 7.8491\n",
      "14. Sakasama no Patema (12477) - 7.8482\n",
      "15. Urusei Yatsura (1293) - 7.8353\n",
      "16. One Punch Man (30276) - 7.8217\n",
      "17. Diamond no Ace: Act II (38731) - 7.8182\n",
      "18. Kuroko no Basket Movie 4: Last Game (31658) - 7.8096\n",
      "19. Kuroko no Basket 3rd Season (24415) - 7.79\n",
      "20. Ashita no Joe 2 (2921) - 7.7842\n",
      "21. ReLIFE: Kanketsu-hen (35466) - 7.7705\n",
      "22. Kuroko no Basket 2nd Season (16894) - 7.7683\n",
      "23. xxxHOLiC Rou (6864) - 7.7681\n",
      "24. Tennis no Ouji-sama: Zenkoku Taikai-hen - Final (4053) - 7.7637\n",
      "25. Kono Oto Tomare! 2nd Season (38889) - 7.7626\n"
     ]
    },
    {
     "name": "stderr",
     "output_type": "stream",
     "text": [
      "/var/folders/lt/f4kb97ds4gq_h8_gdm5b5b5w0000gn/T/ipykernel_39389/1580876593.py:21: FutureWarning: unique with argument that is not not a Series, Index, ExtensionArray, or np.ndarray is deprecated and will raise in a future version.\n",
      "  predict_anime_ids = pd.unique(predict_anime_ids)\n"
     ]
    }
   ],
   "source": [
    "# User 3 \n",
    "# Boys Love\n",
    "user_3_anime_ids = [114, 31964, 32051, 34134, 38000, 39533, 30346, 44055, 918]\n",
    "user_3_ratings = [4, 5, 4, 6, 4, 10, 10, 9, 4]\n",
    "\n",
    "create_predictions_for_new_user(svd_instance, ratings_sample, user_3_anime_ids, user_3_ratings)"
   ]
  },
  {
   "attachments": {},
   "cell_type": "markdown",
   "id": "b3705a4c",
   "metadata": {},
   "source": [
    "#### Training/Predict Time With Scaling User Count"
   ]
  },
  {
   "cell_type": "code",
   "execution_count": 28,
   "id": "03e17181",
   "metadata": {},
   "outputs": [
    {
     "name": "stdout",
     "output_type": "stream",
     "text": [
      "Generating Anime IDs\n",
      "Getting Predictions\n"
     ]
    },
    {
     "name": "stderr",
     "output_type": "stream",
     "text": [
      "/var/folders/lt/f4kb97ds4gq_h8_gdm5b5b5w0000gn/T/ipykernel_39389/1580876593.py:21: FutureWarning: unique with argument that is not not a Series, Index, ExtensionArray, or np.ndarray is deprecated and will raise in a future version.\n",
      "  predict_anime_ids = pd.unique(predict_anime_ids)\n"
     ]
    },
    {
     "name": "stdout",
     "output_type": "stream",
     "text": [
      "Generating Anime IDs\n",
      "Getting Predictions\n"
     ]
    },
    {
     "name": "stderr",
     "output_type": "stream",
     "text": [
      "/var/folders/lt/f4kb97ds4gq_h8_gdm5b5b5w0000gn/T/ipykernel_39389/1580876593.py:21: FutureWarning: unique with argument that is not not a Series, Index, ExtensionArray, or np.ndarray is deprecated and will raise in a future version.\n",
      "  predict_anime_ids = pd.unique(predict_anime_ids)\n"
     ]
    },
    {
     "name": "stdout",
     "output_type": "stream",
     "text": [
      "Generating Anime IDs\n",
      "Getting Predictions\n"
     ]
    },
    {
     "name": "stderr",
     "output_type": "stream",
     "text": [
      "/var/folders/lt/f4kb97ds4gq_h8_gdm5b5b5w0000gn/T/ipykernel_39389/1580876593.py:21: FutureWarning: unique with argument that is not not a Series, Index, ExtensionArray, or np.ndarray is deprecated and will raise in a future version.\n",
      "  predict_anime_ids = pd.unique(predict_anime_ids)\n"
     ]
    },
    {
     "name": "stdout",
     "output_type": "stream",
     "text": [
      "Generating Anime IDs\n",
      "Getting Predictions\n"
     ]
    },
    {
     "name": "stderr",
     "output_type": "stream",
     "text": [
      "/var/folders/lt/f4kb97ds4gq_h8_gdm5b5b5w0000gn/T/ipykernel_39389/1580876593.py:21: FutureWarning: unique with argument that is not not a Series, Index, ExtensionArray, or np.ndarray is deprecated and will raise in a future version.\n",
      "  predict_anime_ids = pd.unique(predict_anime_ids)\n"
     ]
    },
    {
     "name": "stdout",
     "output_type": "stream",
     "text": [
      "Generating Anime IDs\n",
      "Getting Predictions\n"
     ]
    },
    {
     "name": "stderr",
     "output_type": "stream",
     "text": [
      "/var/folders/lt/f4kb97ds4gq_h8_gdm5b5b5w0000gn/T/ipykernel_39389/1580876593.py:21: FutureWarning: unique with argument that is not not a Series, Index, ExtensionArray, or np.ndarray is deprecated and will raise in a future version.\n",
      "  predict_anime_ids = pd.unique(predict_anime_ids)\n"
     ]
    },
    {
     "name": "stdout",
     "output_type": "stream",
     "text": [
      "Generating Anime IDs\n",
      "Getting Predictions\n"
     ]
    },
    {
     "name": "stderr",
     "output_type": "stream",
     "text": [
      "/var/folders/lt/f4kb97ds4gq_h8_gdm5b5b5w0000gn/T/ipykernel_39389/1580876593.py:21: FutureWarning: unique with argument that is not not a Series, Index, ExtensionArray, or np.ndarray is deprecated and will raise in a future version.\n",
      "  predict_anime_ids = pd.unique(predict_anime_ids)\n"
     ]
    },
    {
     "name": "stdout",
     "output_type": "stream",
     "text": [
      "Generating Anime IDs\n",
      "Getting Predictions\n"
     ]
    },
    {
     "name": "stderr",
     "output_type": "stream",
     "text": [
      "/var/folders/lt/f4kb97ds4gq_h8_gdm5b5b5w0000gn/T/ipykernel_39389/1580876593.py:21: FutureWarning: unique with argument that is not not a Series, Index, ExtensionArray, or np.ndarray is deprecated and will raise in a future version.\n",
      "  predict_anime_ids = pd.unique(predict_anime_ids)\n"
     ]
    },
    {
     "name": "stdout",
     "output_type": "stream",
     "text": [
      "Generating Anime IDs\n",
      "Getting Predictions\n"
     ]
    },
    {
     "name": "stderr",
     "output_type": "stream",
     "text": [
      "/var/folders/lt/f4kb97ds4gq_h8_gdm5b5b5w0000gn/T/ipykernel_39389/1580876593.py:21: FutureWarning: unique with argument that is not not a Series, Index, ExtensionArray, or np.ndarray is deprecated and will raise in a future version.\n",
      "  predict_anime_ids = pd.unique(predict_anime_ids)\n"
     ]
    },
    {
     "name": "stdout",
     "output_type": "stream",
     "text": [
      "Generating Anime IDs\n",
      "Getting Predictions\n"
     ]
    },
    {
     "name": "stderr",
     "output_type": "stream",
     "text": [
      "/var/folders/lt/f4kb97ds4gq_h8_gdm5b5b5w0000gn/T/ipykernel_39389/1580876593.py:21: FutureWarning: unique with argument that is not not a Series, Index, ExtensionArray, or np.ndarray is deprecated and will raise in a future version.\n",
      "  predict_anime_ids = pd.unique(predict_anime_ids)\n",
      "/opt/anaconda3/envs/venv/lib/python3.9/site-packages/seaborn/_oldcore.py:1119: FutureWarning: use_inf_as_na option is deprecated and will be removed in a future version. Convert inf values to NaN before operating instead.\n",
      "  with pd.option_context('mode.use_inf_as_na', True):\n",
      "/opt/anaconda3/envs/venv/lib/python3.9/site-packages/seaborn/_oldcore.py:1119: FutureWarning: use_inf_as_na option is deprecated and will be removed in a future version. Convert inf values to NaN before operating instead.\n",
      "  with pd.option_context('mode.use_inf_as_na', True):\n"
     ]
    },
    {
     "data": {
      "image/png": "[encoded data removed]",
      "text/plain": [
       "<Figure size 640x480 with 1 Axes>"
      ]
     },
     "metadata": {},
     "output_type": "display_data"
    }
   ],
   "source": [
    "import time\n",
    "user_1_anime_ids = [4224, 23273, 1723, 32281, 37450, 2167, 121]\n",
    "user_1_ratings = [10, 8, 9, 9, 10, 9, 4]\n",
    "\n",
    "def plot_training_times(low, high, step, model_instance, anime_ids, ratings):\n",
    "    train_times = pd.DataFrame(columns = ['user_count', 'train_predict_time'])\n",
    "\n",
    "    for i in range(low, high, step):\n",
    "        test_ratings_sample = sample_n_user_ratings(ratings_df, i)\n",
    "        start = time.time()\n",
    "        create_predictions_for_new_user(model_instance, test_ratings_sample, anime_ids, ratings, False)\n",
    "        end = time.time()\n",
    "        elapsed = end - start\n",
    "        train_times.loc[len(train_times)] = [i, elapsed]\n",
    "        # print(f'sample of {i} users took {elapsed} seconds to train and predict a new user')\n",
    "\n",
    "    sns.lineplot(x='user_count', y='train_predict_time', data=train_times, markers='o')\n",
    "    plt.show()\n",
    "\n",
    "test_instance = SVD(lr_all = 0.01, n_factors = 100, reg_all = 0.1, n_epochs = 50)\n",
    "plot_training_times(500, 5000, 500, test_instance, user_1_anime_ids, user_1_ratings)"
   ]
  },
  {
   "attachments": {},
   "cell_type": "markdown",
   "id": "83648f46",
   "metadata": {},
   "source": [
    "## K-Nearest Neighbors (KNN)"
   ]
  },
  {
   "attachments": {},
   "cell_type": "markdown",
   "id": "9e358f13",
   "metadata": {},
   "source": [
    "#### Loading Sample into Dataset"
   ]
  },
  {
   "cell_type": "code",
   "execution_count": 29,
   "id": "733fbe83",
   "metadata": {},
   "outputs": [
    {
     "data": {
      "text/plain": [
       "<surprise.dataset.DatasetAutoFolds at 0x1306d7e20>"
      ]
     },
     "execution_count": 29,
     "metadata": {},
     "output_type": "execute_result"
    }
   ],
   "source": [
    "reader = Reader(rating_scale=(1,10))\n",
    "knn_data = Dataset.load_from_df(ratings_sample, reader)\n",
    "knn_data"
   ]
  },
  {
   "attachments": {},
   "cell_type": "markdown",
   "id": "8c6f263b",
   "metadata": {},
   "source": [
    "#### KNN Basic"
   ]
  },
  {
   "cell_type": "code",
   "execution_count": 30,
   "id": "ffa04602",
   "metadata": {},
   "outputs": [
    {
     "name": "stdout",
     "output_type": "stream",
     "text": [
      "Computing the cosine similarity matrix...\n",
      "Done computing similarity matrix.\n",
      "Computing the cosine similarity matrix...\n",
      "Done computing similarity matrix.\n",
      "Computing the cosine similarity matrix...\n",
      "Done computing similarity matrix.\n",
      "Computing the cosine similarity matrix...\n",
      "Done computing similarity matrix.\n",
      "Computing the cosine similarity matrix...\n",
      "Done computing similarity matrix.\n",
      "Evaluating RMSE, MAE of algorithm KNNBasic on 5 split(s).\n",
      "\n",
      "                  Fold 1  Fold 2  Fold 3  Fold 4  Fold 5  Mean    Std     \n",
      "RMSE (testset)    1.5337  1.5365  1.5464  1.5509  1.5352  1.5406  0.0068  \n",
      "MAE (testset)     1.1764  1.1775  1.1822  1.1869  1.1770  1.1800  0.0040  \n",
      "Fit time          0.17    0.18    0.18    0.17    0.17    0.17    0.00    \n",
      "Test time         1.11    1.04    1.16    1.02    1.03    1.07    0.05    \n",
      "\n",
      "Average RMSE: 1.5406\n",
      "Average MAE: 1.18\n"
     ]
    }
   ],
   "source": [
    "knn_basic_algo = KNNBasic(k=10, sim_options={'name': 'cosine', 'user_based': 'False'})\n",
    "\n",
    "cv_knn_basic = cross_validate(knn_basic_algo, knn_data, measures=['rmse', 'mae'], cv=5, verbose=True)\n",
    "cv_knn_basic\n",
    "\n",
    "avg_rmse_basic = np.mean(cv_knn_basic['test_rmse'])\n",
    "avg_mae_basic = np.mean(cv_knn_basic['test_mae'])\n",
    "print(\"\\nAverage RMSE:\", round(avg_rmse_basic, 4))\n",
    "print(\"Average MAE:\", round(avg_mae_basic, 4))"
   ]
  },
  {
   "attachments": {},
   "cell_type": "markdown",
   "id": "e062cce0",
   "metadata": {},
   "source": [
    "#### KNN Baseline"
   ]
  },
  {
   "cell_type": "code",
   "execution_count": 31,
   "id": "9a5032c5",
   "metadata": {},
   "outputs": [
    {
     "name": "stdout",
     "output_type": "stream",
     "text": [
      "Estimating biases using als...\n",
      "Computing the cosine similarity matrix...\n",
      "Done computing similarity matrix.\n",
      "Estimating biases using als...\n",
      "Computing the cosine similarity matrix...\n",
      "Done computing similarity matrix.\n",
      "Estimating biases using als...\n",
      "Computing the cosine similarity matrix...\n",
      "Done computing similarity matrix.\n",
      "Estimating biases using als...\n",
      "Computing the cosine similarity matrix...\n",
      "Done computing similarity matrix.\n",
      "Estimating biases using als...\n",
      "Computing the cosine similarity matrix...\n",
      "Done computing similarity matrix.\n",
      "Evaluating RMSE, MAE of algorithm KNNBaseline on 5 split(s).\n",
      "\n",
      "                  Fold 1  Fold 2  Fold 3  Fold 4  Fold 5  Mean    Std     \n",
      "RMSE (testset)    1.2790  1.2661  1.2648  1.2526  1.2672  1.2660  0.0084  \n",
      "MAE (testset)     0.9583  0.9519  0.9495  0.9429  0.9543  0.9514  0.0051  \n",
      "Fit time          0.30    0.35    0.33    0.35    0.32    0.33    0.02    \n",
      "Test time         1.23    1.25    1.13    1.23    1.24    1.21    0.04    \n",
      "\n",
      "Average RMSE: 1.266\n",
      "Average MAE: 0.9514\n"
     ]
    }
   ],
   "source": [
    "knn_baseline_algo = KNNBaseline(k=10, sim_options={'name': 'cosine', 'user_based': 'False'})\n",
    "\n",
    "cv_knn_baseline = cross_validate(knn_baseline_algo, knn_data, measures=['rmse', 'mae'], cv=5, verbose=True)\n",
    "cv_knn_baseline\n",
    "\n",
    "avg_rmse_baseline = np.mean(cv_knn_baseline['test_rmse'])\n",
    "avg_mae_baseline = np.mean(cv_knn_baseline['test_mae'])\n",
    "print(\"\\nAverage RMSE:\", round(avg_rmse_baseline, 4))\n",
    "print(\"Average MAE:\", round(avg_mae_baseline, 4))"
   ]
  },
  {
   "attachments": {},
   "cell_type": "markdown",
   "id": "ead46986",
   "metadata": {},
   "source": [
    "#### KNN With Means"
   ]
  },
  {
   "cell_type": "code",
   "execution_count": 32,
   "id": "48af2870",
   "metadata": {},
   "outputs": [
    {
     "name": "stdout",
     "output_type": "stream",
     "text": [
      "Computing the cosine similarity matrix...\n",
      "Done computing similarity matrix.\n",
      "Computing the cosine similarity matrix...\n",
      "Done computing similarity matrix.\n",
      "Computing the cosine similarity matrix...\n",
      "Done computing similarity matrix.\n",
      "Computing the cosine similarity matrix...\n",
      "Done computing similarity matrix.\n",
      "Computing the cosine similarity matrix...\n",
      "Done computing similarity matrix.\n",
      "Evaluating RMSE, MAE of algorithm KNNWithMeans on 5 split(s).\n",
      "\n",
      "                  Fold 1  Fold 2  Fold 3  Fold 4  Fold 5  Mean    Std     \n",
      "RMSE (testset)    1.3195  1.3092  1.3183  1.3104  1.3207  1.3156  0.0048  \n",
      "MAE (testset)     0.9922  0.9890  0.9909  0.9887  0.9963  0.9914  0.0028  \n",
      "Fit time          0.18    0.19    0.25    0.19    0.19    0.20    0.03    \n",
      "Test time         1.06    1.16    1.13    1.24    1.15    1.15    0.06    \n",
      "\n",
      "Average RMSE: 1.3156\n",
      "Average MAE: 0.9914\n"
     ]
    }
   ],
   "source": [
    "knn_means_algo = KNNWithMeans(k=10, sim_options={'name': 'cosine', 'user_based': 'False'})\n",
    "\n",
    "cv_knn_means = cross_validate(knn_means_algo, knn_data, measures=['rmse', 'mae'], cv=5, verbose=True)\n",
    "cv_knn_means\n",
    "\n",
    "avg_rmse_means = np.mean(cv_knn_means['test_rmse'])\n",
    "avg_mae_means = np.mean(cv_knn_means['test_mae'])\n",
    "print(\"\\nAverage RMSE:\", round(avg_rmse_means, 4))\n",
    "print(\"Average MAE:\", round(avg_mae_means, 4))"
   ]
  },
  {
   "attachments": {},
   "cell_type": "markdown",
   "id": "a5a1b6ab",
   "metadata": {},
   "source": [
    "#### Best KNN Model"
   ]
  },
  {
   "cell_type": "code",
   "execution_count": 33,
   "id": "e95fa601",
   "metadata": {},
   "outputs": [
    {
     "name": "stdout",
     "output_type": "stream",
     "text": [
      "Best KNN Algorithm: KNN Baseline\n",
      "Best Average RMSE: 1.266\n",
      "Best Average MAE: 0.9514\n"
     ]
    },
    {
     "data": {
      "text/html": [
       "<div>\n",
       "<style scoped>\n",
       "    .dataframe tbody tr th:only-of-type {\n",
       "        vertical-align: middle;\n",
       "    }\n",
       "\n",
       "    .dataframe tbody tr th {\n",
       "        vertical-align: top;\n",
       "    }\n",
       "\n",
       "    .dataframe thead th {\n",
       "        text-align: right;\n",
       "    }\n",
       "</style>\n",
       "<table border=\"1\" class=\"dataframe\">\n",
       "  <thead>\n",
       "    <tr style=\"text-align: right;\">\n",
       "      <th></th>\n",
       "      <th>KNN Basic</th>\n",
       "      <th>KNN Baseline</th>\n",
       "      <th>KNN With Means</th>\n",
       "    </tr>\n",
       "  </thead>\n",
       "  <tbody>\n",
       "    <tr>\n",
       "      <th>Average RMSE</th>\n",
       "      <td>1.540557</td>\n",
       "      <td>1.265953</td>\n",
       "      <td>1.315616</td>\n",
       "    </tr>\n",
       "    <tr>\n",
       "      <th>Average MAE</th>\n",
       "      <td>1.179959</td>\n",
       "      <td>0.951377</td>\n",
       "      <td>0.991403</td>\n",
       "    </tr>\n",
       "  </tbody>\n",
       "</table>\n",
       "</div>"
      ],
      "text/plain": [
       "              KNN Basic  KNN Baseline  KNN With Means\n",
       "Average RMSE   1.540557      1.265953        1.315616\n",
       "Average MAE    1.179959      0.951377        0.991403"
      ]
     },
     "execution_count": 33,
     "metadata": {},
     "output_type": "execute_result"
    }
   ],
   "source": [
    "best_knn_algo = None\n",
    "best_knn_rmse = np.min([avg_rmse_basic, avg_rmse_baseline, avg_rmse_means])\n",
    "best_knn_mae = np.min([avg_mae_basic, avg_mae_baseline, avg_mae_means])\n",
    "best_algo_type = \"\"\n",
    "\n",
    "if best_knn_rmse == avg_rmse_basic:\n",
    "    best_algo_type = \"KNN Basic\"\n",
    "    best_knn_algo = knn_basic_algo\n",
    "elif best_knn_rmse == avg_rmse_baseline:\n",
    "    best_algo_type = \"KNN Baseline\"\n",
    "    best_knn_algo = knn_baseline_algo\n",
    "else:\n",
    "    best_algo_type = \"KNN With Means\"\n",
    "    best_knn_algo = knn_means_algo\n",
    "\n",
    "print(\"Best KNN Algorithm:\", best_algo_type)\n",
    "print(\"Best Average RMSE:\", round(best_knn_rmse, 4))\n",
    "print(\"Best Average MAE:\", round(best_knn_mae, 4))\n",
    "\n",
    "knn_rmses_df = pd.DataFrame({'KNN Basic': [avg_rmse_basic, avg_mae_basic],\n",
    "                             'KNN Baseline': [avg_rmse_baseline, avg_mae_baseline],\n",
    "                             'KNN With Means': [avg_rmse_means, avg_mae_means]})\n",
    "knn_rmses_df.index = ['Average RMSE', 'Average MAE']\n",
    "knn_rmses_df"
   ]
  },
  {
   "attachments": {},
   "cell_type": "markdown",
   "id": "867b9330",
   "metadata": {},
   "source": [
    "#### Recommendations with KNN"
   ]
  },
  {
   "cell_type": "code",
   "execution_count": 34,
   "id": "a7f8f035",
   "metadata": {},
   "outputs": [
    {
     "name": "stdout",
     "output_type": "stream",
     "text": [
      "The 10 nearest neighbors of Cowboy Bebop are:\n",
      "Amon: Devilman Mokushiroku\n",
      "Monster Musume no Iru Nichijou\n",
      "WWW.Working!!\n",
      "Golden Time\n",
      "Idol Fantasy\n",
      "B: The Beginning\n",
      "Tales of Zestiria the Cross: Saiyaku no Jidai\n",
      "Joker Game\n",
      "Dansai Bunri no Crime Edge\n",
      "\"Gate: Jieitai Kanochi nite\n"
     ]
    }
   ],
   "source": [
    "# model input is a single anime, output is k nearest animes\n",
    "anime_name = \"Cowboy Bebop\"\n",
    "\n",
    "# anime name must be mapped to id for model\n",
    "anime_raw_id = int(name_to_rid[anime_name.lower()])\n",
    "anime_inner_id = best_knn_algo.trainset.to_inner_iid(anime_raw_id)\n",
    "\n",
    "anime_neighbors = best_knn_algo.get_neighbors(anime_inner_id, k=10)\n",
    "\n",
    "# print recommendations\n",
    "print(\"The 10 nearest neighbors of\", anime_name, \"are:\")\n",
    "for inner_id in anime_neighbors:\n",
    "    print(rid_to_name[str(best_knn_algo.trainset.to_raw_iid(inner_id))])"
   ]
  },
  {
   "attachments": {},
   "cell_type": "markdown",
   "id": "36b4778b",
   "metadata": {},
   "source": [
    "## Exported Models for Front-end"
   ]
  },
  {
   "cell_type": "code",
   "execution_count": 35,
   "id": "863622d3",
   "metadata": {},
   "outputs": [],
   "source": [
    "import pickle\n",
    "\n",
    "pickle.dump(best_knn_algo, open('models/knn_model.pkl','wb'))\n",
    "pickle.dump(svd_instance, open('models/svd_model.pkl','wb'))"
   ]
  }
 ],
 "metadata": {
  "kernelspec": {
   "display_name": "Python 3 (ipykernel)",
   "language": "python",
   "name": "python3"
  },
  "language_info": {
   "codemirror_mode": {
    "name": "ipython",
    "version": 3
   },
   "file_extension": ".py",
   "mimetype": "text/x-python",
   "name": "python",
   "nbconvert_exporter": "python",
   "pygments_lexer": "ipython3",
   "version": "3.9.19"
  }
 },
 "nbformat": 4,
 "nbformat_minor": 5
}
